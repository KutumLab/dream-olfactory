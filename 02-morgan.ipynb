{
 "cells": [
  {
   "cell_type": "code",
   "execution_count": null,
   "metadata": {},
   "outputs": [],
   "source": [
    "from sklearn.metrics import silhouette_score, root_mean_squared_error, r2_score\n",
    "from scipy.cluster.hierarchy import dendrogram, linkage\n",
    "from sklearn.metrics.pairwise import cosine_similarity\n",
    "from sklearn.model_selection import train_test_split\n",
    "from sklearn.decomposition import PCA, TruncatedSVD\n",
    "from sklearn.ensemble import RandomForestRegressor\n",
    "from hirarchy import build_tree, get_level_data\n",
    "from yellowbrick.cluster import KElbowVisualizer\n",
    "from sklearn.preprocessing import MinMaxScaler\n",
    "from scipy.stats import chisquare, pearsonr\n",
    "from sklearn.model_selection import KFold\n",
    "from sklearn.cluster import KMeans\n",
    "import matplotlib.pyplot as plt\n",
    "from matplotlib import rcParams\n",
    "from tqdm import tqdm\n",
    "import seaborn as sns\n",
    "import pickle as pkl\n",
    "import pandas as pd\n",
    "import numpy as np\n",
    "import warnings\n",
    "import joblib\n",
    "import sys\n",
    "import os"
   ]
  },
  {
   "cell_type": "code",
   "execution_count": null,
   "metadata": {},
   "outputs": [],
   "source": [
    "import tensorflow as tf\n",
    "print(f'GPU Name: {tf.test.gpu_device_name()}')"
   ]
  },
  {
   "cell_type": "code",
   "execution_count": null,
   "metadata": {},
   "outputs": [],
   "source": [
    "rcParams['font.family'] = 'DejaVu Sans'\n",
    "warnings.filterwarnings('ignore')\n",
    "sys.path.append('./')\n",
    "os.makedirs('./submission/morgan/results', exist_ok=True)\n",
    "os.makedirs('./submission/morgan/data', exist_ok=True)\n",
    "os.makedirs('./submission/morgan/data/train', exist_ok=True)\n",
    "os.makedirs('./submission/morgan/data/test', exist_ok=True)\n",
    "os.makedirs('./submission/morgan/data/folds', exist_ok=True)\n",
    "os.makedirs('./submission/morgan/model', exist_ok=True)\n",
    "os.makedirs('./submission/morgan/tmp', exist_ok=True)"
   ]
  },
  {
   "cell_type": "code",
   "execution_count": null,
   "metadata": {},
   "outputs": [],
   "source": [
    "morgan = pd.read_csv('data/raw/Morgan_Fingerprint.csv')\n",
    "morgan.rename(columns={'Unnamed: 0': 'CID'}, inplace=True)\n",
    "features = morgan[morgan.columns[1:]]\n",
    "cids = morgan['CID']"
   ]
  },
  {
   "cell_type": "code",
   "execution_count": null,
   "metadata": {},
   "outputs": [],
   "source": [
    "turn_svd = TruncatedSVD(n_components=20)\n",
    "turn_svd.fit(features)\n",
    "features_20 = turn_svd.transform(features)\n",
    "features_20 = pd.DataFrame(features_20, index=cids)\n",
    "features_20"
   ]
  },
  {
   "cell_type": "code",
   "execution_count": null,
   "metadata": {},
   "outputs": [],
   "source": [
    "features_20_distances = pd.DataFrame(cosine_similarity(features_20), index=cids, columns=cids)\n",
    "features_20_distances"
   ]
  },
  {
   "cell_type": "code",
   "execution_count": null,
   "metadata": {},
   "outputs": [],
   "source": [
    "km = KMeans(random_state=42)\n",
    "visualizer = KElbowVisualizer(km, k=(2,10))\n",
    "visualizer.fit(features_20_distances) # best at 4\n",
    "visualizer.show()"
   ]
  },
  {
   "cell_type": "code",
   "execution_count": null,
   "metadata": {},
   "outputs": [],
   "source": [
    "km = KMeans(n_clusters=4, random_state=42)\n",
    "features_20_km = km.fit(features_20_distances)\n",
    "labels = km.labels_"
   ]
  },
  {
   "cell_type": "code",
   "execution_count": null,
   "metadata": {},
   "outputs": [],
   "source": [
    "cluster_labels_df = pd.DataFrame({'CID': cids, 'clusters': labels})\n",
    "cluster_labels_df"
   ]
  },
  {
   "cell_type": "code",
   "execution_count": null,
   "metadata": {},
   "outputs": [],
   "source": [
    "cluster_labels_df['clusters'].value_counts()"
   ]
  },
  {
   "cell_type": "code",
   "execution_count": null,
   "metadata": {},
   "outputs": [],
   "source": [
    "centers = km.cluster_centers_\n",
    "cluster_center_df = km.transform(features_20_distances)\n",
    "cluster_center_df = pd.DataFrame(cluster_center_df, index=cids, columns=[f'distance_to_center_{i}' for i in range(4)])\n",
    "cluster_center_df"
   ]
  },
  {
   "cell_type": "code",
   "execution_count": null,
   "metadata": {},
   "outputs": [],
   "source": [
    "def correct_mix_def(row):\n",
    "    invalid_cids = {\n",
    "        78605: 0,\n",
    "        25137858: 0,\n",
    "        19789253: 0,\n",
    "        66328: 0,\n",
    "    }\n",
    "    replace_cid = {\n",
    "        11002307: [11002, 307]\n",
    "    }\n",
    "    indices = row.index[2:]\n",
    "    last_index = row.index[-1]\n",
    "    for idx in indices:\n",
    "        if row.loc[idx] in invalid_cids.keys():\n",
    "            row.loc[idx] = invalid_cids[row.loc[idx]]\n",
    "        if row.loc[idx] in replace_cid.keys():\n",
    "            # replace current entry with 1st value and replace last column with 2nd value\n",
    "            row.loc[last_index] = replace_cid[row.loc[idx]][1]\n",
    "            row.loc[idx] = replace_cid[row.loc[idx]][0]\n",
    "    return row"
   ]
  },
  {
   "cell_type": "code",
   "execution_count": null,
   "metadata": {},
   "outputs": [],
   "source": [
    "mixers_def = pd.read_csv('data/raw/Mixure_Definitions_Training_set.csv')\n",
    "mixers_def = mixers_def.apply(correct_mix_def, axis=1)\n",
    "mixers_def_group = mixers_def.groupby(['Dataset'])\n",
    "mixers_def"
   ]
  },
  {
   "cell_type": "code",
   "execution_count": null,
   "metadata": {},
   "outputs": [],
   "source": [
    "mixers_val = pd.read_csv('data/raw/TrainingData_mixturedist.csv')\n",
    "mixers_val.dropna(inplace=True)\n",
    "mixers_val"
   ]
  },
  {
   "cell_type": "code",
   "execution_count": null,
   "metadata": {},
   "outputs": [],
   "source": [
    "def retrive_mixer_cids(gr_nm, mx_1, mx_2):\n",
    "    grp_name = mixers_def_group.get_group(gr_nm)\n",
    "    \n",
    "    test1 = np.array(grp_name[grp_name['Mixture Label'] == mx_1])[0][2:]\n",
    "    test1 = [cid for cid in test1 if cid != 0]\n",
    "    \n",
    "    test2 = np.array(grp_name[grp_name['Mixture Label'] == mx_2])[0][2:]\n",
    "    test2 = [cid for cid in test2 if cid != 0]\n",
    "    \n",
    "    return test1, test2"
   ]
  },
  {
   "cell_type": "code",
   "execution_count": null,
   "metadata": {},
   "outputs": [],
   "source": [
    "def get_cluster_counts(ids):\n",
    "    '''\n",
    "    Get the counts of each cluster for the given ids\n",
    "    '''\n",
    "    clusters = cluster_labels_df[cluster_labels_df['CID'].isin(ids)]['clusters']\n",
    "    clusters_matrix =pd.DataFrame(clusters.value_counts()).reset_index()\n",
    "\n",
    "    dict_ = {}\n",
    "    for idx, row in clusters_matrix.iterrows():\n",
    "        dict_[row['clusters']] = row['count']\n",
    "    \n",
    "    if 0 not in dict_.keys():\n",
    "        dict_[0] = 0\n",
    "    if 1 not in dict_.keys():\n",
    "        dict_[1] = 0\n",
    "    if 2 not in dict_.keys():\n",
    "        dict_[2] = 0\n",
    "    if 3 not in dict_.keys():\n",
    "        dict_[3] = 0\n",
    "    \n",
    "    return dict_"
   ]
  },
  {
   "cell_type": "code",
   "execution_count": null,
   "metadata": {},
   "outputs": [],
   "source": [
    "compute_type = {\n",
    "    1: features_20,\n",
    "    2: features_20_distances,\n",
    "    3: cluster_center_df,\n",
    "}\n",
    "compute_type_name = {\n",
    "    1: 'features_20',\n",
    "    2: 'features_20_distances',\n",
    "    3: 'cluster_center_df',\n",
    "}"
   ]
  },
  {
   "cell_type": "code",
   "execution_count": null,
   "metadata": {},
   "outputs": [],
   "source": [
    "def get_features(test1, test2, compute_type_key):\n",
    "    '''\n",
    "    Get the features for the given test1 and test2\n",
    "    '''\n",
    "    features1 = compute_type[compute_type_key].loc[test1]\n",
    "    features2 = compute_type[compute_type_key].loc[test2]\n",
    "\n",
    "    features1 = np.array(features1.mean(axis=0))\n",
    "    features2 = np.array(features2.mean(axis=0))\n",
    "    \n",
    "    return features1, features2"
   ]
  },
  {
   "cell_type": "code",
   "execution_count": null,
   "metadata": {},
   "outputs": [],
   "source": [
    "test1, test2 = retrive_mixer_cids('Snitz 1', 1, 2)\n",
    "features1, features2 = get_features(test1, test2, 1)"
   ]
  },
  {
   "cell_type": "code",
   "execution_count": null,
   "metadata": {},
   "outputs": [],
   "source": [
    "def get_chisquare_val(test1, test2):\n",
    "    '''\n",
    "    Get the p-value of the chisquare test between two mixtures on cluster distribution\n",
    "    '''\n",
    "    dict1 = get_cluster_counts(test1)\n",
    "    dict2 = get_cluster_counts(test2)    \n",
    "    combined = pd.DataFrame([dict1, dict2])\n",
    "    result_p_value = chisquare(combined, axis=None)[-1]\n",
    "    return result_p_value"
   ]
  },
  {
   "cell_type": "code",
   "execution_count": null,
   "metadata": {},
   "outputs": [],
   "source": [
    "def get_pearsonr_val(test1, test2, compute_type_key):\n",
    "    '''\n",
    "    Get the pearson correlation value between two mixtures on the given compute type\n",
    "    '''\n",
    "    # print(f'Using Compute Type: {compute_type_key}')\n",
    "    m1_diatances = compute_type[compute_type_key].loc[test1]\n",
    "    m2_diatances = compute_type[compute_type_key].loc[test2]\n",
    "\n",
    "    m1_diatances = np.array(m1_diatances.mean(axis=0))\n",
    "    m2_diatances = np.array(m2_diatances.mean(axis=0))\n",
    "    \n",
    "    corr_ = pearsonr(m1_diatances, m2_diatances)[0]\n",
    "\n",
    "    return corr_"
   ]
  },
  {
   "cell_type": "code",
   "execution_count": null,
   "metadata": {},
   "outputs": [],
   "source": [
    "test1, test2 = retrive_mixer_cids('Snitz 1', 1, 2)\n",
    "print(f'Corr: {get_pearsonr_val(test1, test2, 1)}')\n",
    "print(f'Corr: {get_pearsonr_val(test1, test2, 2)}')\n",
    "print(f'Corr: {get_pearsonr_val(test1, test2, 3)}')"
   ]
  },
  {
   "cell_type": "code",
   "execution_count": null,
   "metadata": {},
   "outputs": [],
   "source": [
    "def get_cosine_val(test1, test2, compute_type_key):\n",
    "    '''\n",
    "    Get the cosine similarity value between two mixtures on the given compute type\n",
    "    '''\n",
    "    m1_diatances = compute_type[compute_type_key].loc[test1]\n",
    "    m2_diatances = compute_type[compute_type_key].loc[test2]\n",
    "\n",
    "    m1_diatances = np.array(m1_diatances.mean(axis=0))\n",
    "    m2_diatances = np.array(m2_diatances.mean(axis=0))\n",
    "\n",
    "    cos_ = cosine_similarity([m1_diatances], [m2_diatances])[0][0]\n",
    "\n",
    "    return cos_"
   ]
  },
  {
   "cell_type": "code",
   "execution_count": null,
   "metadata": {},
   "outputs": [],
   "source": [
    "test1, test2 = retrive_mixer_cids('Snitz 1', 1, 2)\n",
    "print(f'Cosine Similarity: {get_cosine_val(test1, test2, 1)}')\n",
    "print(f'Cosine Similarity: {get_cosine_val(test1, test2, 2)}')\n",
    "print(f'Cosine Similarity: {get_cosine_val(test1, test2, 3)}')"
   ]
  },
  {
   "cell_type": "code",
   "execution_count": null,
   "metadata": {},
   "outputs": [],
   "source": [
    "def get_euclidean_val(test1, test2, compute_type_key):\n",
    "    '''\n",
    "    Get the euclidean distance value between two mixtures on the given compute type\n",
    "    '''\n",
    "    m1_diatances = compute_type[compute_type_key].loc[test1]\n",
    "    m2_diatances = compute_type[compute_type_key].loc[test2]\n",
    "\n",
    "    m1_diatances = np.array(m1_diatances.mean(axis=0))\n",
    "    m2_diatances = np.array(m2_diatances.mean(axis=0))\n",
    "\n",
    "    euc_ = np.linalg.norm(m1_diatances - m2_diatances)\n",
    "\n",
    "    return euc_"
   ]
  },
  {
   "cell_type": "code",
   "execution_count": null,
   "metadata": {},
   "outputs": [],
   "source": [
    "test1, test2 = retrive_mixer_cids('Snitz 1', 1, 2)\n",
    "print(f'Euclidean Distance: {get_euclidean_val(test1, test2, 1)}')\n",
    "print(f'Euclidean Distance: {get_euclidean_val(test1, test2, 2)}')\n",
    "print(f'Euclidean Distance: {get_euclidean_val(test1, test2, 3)}')"
   ]
  },
  {
   "cell_type": "code",
   "execution_count": null,
   "metadata": {},
   "outputs": [],
   "source": [
    "mixers_val"
   ]
  },
  {
   "cell_type": "code",
   "execution_count": null,
   "metadata": {},
   "outputs": [],
   "source": [
    "def make_x_df(x_df, compute_type_key):\n",
    "    '''\n",
    "    Make the x_df for the given compute type\n",
    "    '''\n",
    "    for idx, row in tqdm(mixers_val.iterrows(), total=mixers_val.shape[0]):\n",
    "        dataset = row['Dataset']\n",
    "        mix1 = row['Mixture 1']\n",
    "        mix2 = row['Mixture 2']\n",
    "        expected = row['Experimental Values']\n",
    "\n",
    "        test1, test2 = retrive_mixer_cids(dataset, mix1, mix2)\n",
    "\n",
    "        chi2 = get_chisquare_val(test1, test2)\n",
    "        pearsonr_val = get_pearsonr_val(test1, test2, compute_type_key)\n",
    "        cosine_val = get_cosine_val(test1, test2, compute_type_key)\n",
    "        euclidean_val = get_euclidean_val(test1, test2, compute_type_key)\n",
    "        \n",
    "        features1, features2 = get_features(test1, test2, compute_type_key)\n",
    "        \n",
    "        in_df = [dataset, mix1, mix2]\n",
    "        in_df.extend(features1)\n",
    "        in_df.extend(features2)\n",
    "        in_df.extend([chi2, pearsonr_val, cosine_val, euclidean_val, expected])\n",
    "        in_df = np.array(in_df)\n",
    "\n",
    "        x_df = pd.concat([x_df, pd.DataFrame([in_df], columns=x_df.columns)], ignore_index=True)\n",
    "\n",
    "    x_df[x_df.columns[1:]] = x_df[x_df.columns[1:]].astype(float) \n",
    "    \n",
    "    return x_df"
   ]
  },
  {
   "cell_type": "markdown",
   "metadata": {},
   "source": [
    "# X:\n",
    "Types of X:\n",
    "- Cluster Centers. Shape: $(500, 4*2+1+1+1+1+1)$\n",
    "- Feature 20. Shape: $(500, 20*2+1+1+1+1+1)$\n",
    "- Feature 20 Distances. Shape: $(500, 169*2+1+1+1+1+1)$\n",
    "\n",
    "Other included features $(1+1+1+1+1)$:\n",
    "- chi-square p-value between two mixtures on cluster distribution\n",
    "- pearson correlation between two mixtures on given compute type\n",
    "- cosine similarity between two mixtures on given compute type\n",
    "- euclidean distance between two mixtures on given compute type\n",
    "- expected value of the cluster distribution"
   ]
  },
  {
   "cell_type": "code",
   "execution_count": null,
   "metadata": {},
   "outputs": [],
   "source": [
    "cols_cluster_center = ['Dataset', 'Mixture 1', 'Mixture 2']+[f'm{i}_d{j}' for i in range(2) for j in range(4)]+['chi2','pearsonr', 'cosine', 'euclidean', 'expected']\n",
    "X_cluster_center = pd.DataFrame(columns=cols_cluster_center)\n",
    "\n",
    "cols_features_20 = ['Dataset', 'Mixture 1', 'Mixture 2']+[f'm{i}_d{j}' for i in range(2) for j in range(20)]+['chi2','pearsonr', 'cosine', 'euclidean', 'expected']\n",
    "X_features_20 = pd.DataFrame(columns=cols_features_20)\n",
    "\n",
    "cols_features_20_distances = ['Dataset', 'Mixture 1', 'Mixture 2']+[f'm{i}_d{j}' for i in range(2) for j in range(169)]+['chi2','pearsonr', 'cosine', 'euclidean', 'expected']\n",
    "X_features_20_distances = pd.DataFrame(columns=cols_features_20_distances)"
   ]
  },
  {
   "cell_type": "code",
   "execution_count": null,
   "metadata": {},
   "outputs": [],
   "source": [
    "X_cluster_center = make_x_df(X_cluster_center, 3)\n",
    "X_cluster_center"
   ]
  },
  {
   "cell_type": "code",
   "execution_count": null,
   "metadata": {},
   "outputs": [],
   "source": [
    "X_features_20 = make_x_df(X_features_20, 1)\n",
    "X_features_20"
   ]
  },
  {
   "cell_type": "code",
   "execution_count": null,
   "metadata": {},
   "outputs": [],
   "source": [
    "X_features_20_distances = make_x_df(X_features_20_distances, 2)\n",
    "X_features_20_distances"
   ]
  },
  {
   "cell_type": "code",
   "execution_count": null,
   "metadata": {},
   "outputs": [],
   "source": [
    "# Saves\n",
    "X_cluster_center.to_csv('submission/morgan/data/X_cluster_center.csv', index=False)\n",
    "X_features_20.to_csv('submission/morgan/data/X_features_20.csv', index=False)\n",
    "X_features_20_distances.to_csv('submission/morgan/data/X_features_20_distances.csv', index=False)\n",
    "features_20.to_csv('submission/morgan/data/features_20.csv')\n",
    "features_20_distances.to_csv('submission/morgan/data/features_20_distances.csv')\n",
    "cluster_center_df.to_csv('submission/morgan/data/cluster_center_df.csv')\n",
    "cluster_labels_df.to_csv('submission/morgan/data/cluster_labels_df.csv')\n",
    "pkl.dump(km, open('submission/morgan/model/km.pkl', 'wb'))\n",
    "pkl.dump(turn_svd, open('submission/morgan/model/turn_svd.pkl', 'wb'))\n",
    "mixers_def.to_csv('submission/morgan/data/mixers_def.csv', index=False)"
   ]
  }
 ],
 "metadata": {
  "kernelspec": {
   "display_name": "dream",
   "language": "python",
   "name": "python3"
  },
  "language_info": {
   "codemirror_mode": {
    "name": "ipython",
    "version": 3
   },
   "file_extension": ".py",
   "mimetype": "text/x-python",
   "name": "python",
   "nbconvert_exporter": "python",
   "pygments_lexer": "ipython3",
   "version": "3.10.14"
  }
 },
 "nbformat": 4,
 "nbformat_minor": 2
}
