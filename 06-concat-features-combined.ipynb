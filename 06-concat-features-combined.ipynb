{
 "cells": [
  {
   "cell_type": "code",
   "execution_count": null,
   "metadata": {},
   "outputs": [],
   "source": [
    "from sklearn.metrics import silhouette_score, root_mean_squared_error, r2_score\n",
    "from scipy.cluster.hierarchy import dendrogram, linkage\n",
    "from sklearn.metrics.pairwise import cosine_similarity\n",
    "from sklearn.model_selection import train_test_split\n",
    "from sklearn.decomposition import PCA, TruncatedSVD\n",
    "from sklearn.ensemble import RandomForestRegressor\n",
    "from yellowbrick.cluster import KElbowVisualizer\n",
    "from sklearn.preprocessing import MinMaxScaler\n",
    "from scipy.stats import chisquare, pearsonr\n",
    "from sklearn.model_selection import KFold\n",
    "from sklearn.cluster import KMeans\n",
    "import matplotlib.pyplot as plt\n",
    "from matplotlib import rcParams\n",
    "from tqdm import tqdm\n",
    "import seaborn as sns\n",
    "import pickle as pkl\n",
    "import pandas as pd\n",
    "import numpy as np\n",
    "import warnings\n",
    "import sys\n",
    "import os"
   ]
  },
  {
   "cell_type": "code",
   "execution_count": null,
   "metadata": {},
   "outputs": [],
   "source": [
    "rcParams['font.family'] = 'DejaVu Sans'\n",
    "warnings.filterwarnings('ignore')\n",
    "sys.path.append('./')\n",
    "os.makedirs('./submission/concatenated/combined/data', exist_ok=True)"
   ]
  },
  {
   "cell_type": "markdown",
   "metadata": {},
   "source": [
    "# All features"
   ]
  },
  {
   "cell_type": "code",
   "execution_count": null,
   "metadata": {},
   "outputs": [],
   "source": [
    "combined_X_dragon = pd.read_csv('./submission/concatenated/dragon/data/combined_X.csv').rename(columns={'Unnamed: 0': 'ID'}).sort_values(by='ID')\n",
    "combined_X_mordred = pd.read_csv('./submission/concatenated/mordred/data/combined_X.csv').rename(columns={'Unnamed: 0': 'ID'}).sort_values(by='ID')\n",
    "combined_X_morgan = pd.read_csv('./submission/concatenated/morgan/data/combined_X.csv').rename(columns={'Unnamed: 0': 'ID'}).sort_values(by='ID')"
   ]
  },
  {
   "cell_type": "code",
   "execution_count": null,
   "metadata": {},
   "outputs": [],
   "source": [
    "combined_X_mordred"
   ]
  },
  {
   "cell_type": "code",
   "execution_count": null,
   "metadata": {},
   "outputs": [],
   "source": [
    "vlas = combined_X_dragon[['ID', 'Dataset', 'Mixture 1', 'Mixture 2', 'expected']] == combined_X_mordred[['ID', 'Dataset', 'Mixture 1', 'Mixture 2', 'expected']]\n",
    "print(f'VLA: {vlas.all().all()}')\n",
    "vlas = combined_X_dragon[['ID', 'Dataset', 'Mixture 1', 'Mixture 2', 'expected']] == combined_X_morgan[['ID', 'Dataset', 'Mixture 1', 'Mixture 2', 'expected']]\n",
    "print(f'VLA: {vlas.all().all()}')"
   ]
  },
  {
   "cell_type": "code",
   "execution_count": null,
   "metadata": {},
   "outputs": [],
   "source": [
    "meta = combined_X_morgan[['ID', 'Dataset', 'Mixture 1', 'Mixture 2', 'expected']]\n",
    "combined_X_dragon.drop(columns=['expected'], inplace=True)\n",
    "combined_X_mordred.drop(columns=['expected'], inplace=True)\n",
    "combined_X_morgan.drop(columns=['expected'], inplace=True)\n",
    "meta"
   ]
  },
  {
   "cell_type": "code",
   "execution_count": null,
   "metadata": {},
   "outputs": [],
   "source": [
    "combined_X_mordred.head(2)"
   ]
  },
  {
   "cell_type": "code",
   "execution_count": null,
   "metadata": {},
   "outputs": [],
   "source": [
    "combined_X_morgan.head(2)"
   ]
  },
  {
   "cell_type": "code",
   "execution_count": null,
   "metadata": {},
   "outputs": [],
   "source": [
    "# Rename columns\n",
    "for col in combined_X_dragon.columns[4:]:\n",
    "    # add dragon prefix\n",
    "    combined_X_dragon.rename(columns={col: 'dragon_' + col}, inplace=True)\n",
    "for col in combined_X_mordred.columns[4:]:\n",
    "    # add mordred prefix\n",
    "    combined_X_mordred.rename(columns={col: 'mordred_' + col}, inplace=True)\n",
    "for col in combined_X_morgan.columns[4:]:\n",
    "    # add morgan prefix\n",
    "    combined_X_morgan.rename(columns={col: 'morgan_' + col}, inplace=True)"
   ]
  },
  {
   "cell_type": "code",
   "execution_count": null,
   "metadata": {},
   "outputs": [],
   "source": [
    "combined_X_dragon[combined_X_dragon.columns[4:]].shape, combined_X_mordred[combined_X_mordred.columns[4:]].shape, combined_X_morgan[combined_X_morgan.columns[4:]].shape"
   ]
  },
  {
   "cell_type": "code",
   "execution_count": null,
   "metadata": {},
   "outputs": [],
   "source": [
    "print(combined_X_dragon[combined_X_dragon.columns[4:]].shape[1]+combined_X_mordred[combined_X_mordred.columns[4:]].shape[1])\n",
    "print(combined_X_dragon[combined_X_dragon.columns[4:]].shape[1]+combined_X_mordred[combined_X_mordred.columns[4:]].shape[1]+combined_X_morgan[combined_X_morgan.columns[4:]].shape[1])"
   ]
  },
  {
   "cell_type": "code",
   "execution_count": null,
   "metadata": {},
   "outputs": [],
   "source": [
    "combined_X_dragon[combined_X_dragon.columns[4:]]"
   ]
  },
  {
   "cell_type": "code",
   "execution_count": null,
   "metadata": {},
   "outputs": [],
   "source": [
    "combined_X = pd.concat([combined_X_dragon[combined_X_dragon.columns[4:]], combined_X_mordred[combined_X_mordred.columns[4:]], combined_X_morgan[combined_X_morgan.columns[4:]]], axis=1)\n",
    "# Add metadata\n",
    "combined_X = pd.concat([meta, combined_X], axis=1)\n",
    "# # send expected to the end\n",
    "expected = combined_X.pop('expected')\n",
    "combined_X['expected'] = expected\n",
    "combined_X.drop(columns=['ID'], inplace=True)\n",
    "# combined_X = combined_X.sample(frac=1)\n",
    "combined_X"
   ]
  },
  {
   "cell_type": "code",
   "execution_count": null,
   "metadata": {},
   "outputs": [],
   "source": [
    "combined_X.to_csv('./submission/concatenated/combined/data/combined_X.csv', index=False)"
   ]
  },
  {
   "cell_type": "code",
   "execution_count": null,
   "metadata": {},
   "outputs": [],
   "source": [
    "plt.figure(figsize=(6, 4))\n",
    "plt.hist(combined_X['expected'])\n",
    "plt.show()"
   ]
  },
  {
   "cell_type": "code",
   "execution_count": null,
   "metadata": {},
   "outputs": [],
   "source": [
    "extreme = combined_X[(combined_X['expected'] > 0.8) | (combined_X['expected'] < 0.2)]\n",
    "extreme.to_csv('./submission/concatenated/combined/data/extreme.csv', index=False)\n",
    "extreme_idx = extreme.index.values\n",
    "extreme.shape"
   ]
  },
  {
   "cell_type": "code",
   "execution_count": null,
   "metadata": {},
   "outputs": [],
   "source": [
    "combined_X_no_extreme = combined_X[(combined_X['expected'] <= 0.8) & (combined_X['expected'] >= 0.2)]\n",
    "combined_X_no_extreme = combined_X_no_extreme.sample(frac=1, random_state=42)\n",
    "combined_X_no_extreme.shape"
   ]
  },
  {
   "cell_type": "code",
   "execution_count": null,
   "metadata": {},
   "outputs": [],
   "source": [
    "external_train_idx = np.load('./submission/concatenated/data/external_train.npy')\n",
    "external_test_idx = np.load('./submission/concatenated/data/external_test.npy')"
   ]
  },
  {
   "cell_type": "code",
   "execution_count": null,
   "metadata": {},
   "outputs": [],
   "source": [
    "combined_X_no_extreme_train = combined_X_no_extreme.loc[external_train_idx]\n",
    "combined_X_no_extreme_test = combined_X_no_extreme.loc[external_test_idx]\n",
    "combined_X_no_extreme_train.shape, combined_X_no_extreme_test.shape"
   ]
  },
  {
   "cell_type": "code",
   "execution_count": null,
   "metadata": {},
   "outputs": [],
   "source": [
    "combined_X_no_extreme_test.head(2)"
   ]
  },
  {
   "cell_type": "code",
   "execution_count": null,
   "metadata": {},
   "outputs": [],
   "source": [
    "combined_X_no_extreme_train.to_csv('./submission/concatenated/combined/data/combined_X_no_extreme_train.csv', index=False)\n",
    "combined_X_no_extreme_test.to_csv('./submission/concatenated/combined/data/combined_X_no_extreme_test.csv', index=False)"
   ]
  },
  {
   "cell_type": "code",
   "execution_count": null,
   "metadata": {},
   "outputs": [],
   "source": [
    "# KFOLD\n",
    "train_idx = np.load('./submission/concatenated/data/train_idx.npy')\n",
    "test_idx = np.load('./submission/concatenated/data/test_idx.npy')\n",
    "train_idx.shape, test_idx.shape"
   ]
  },
  {
   "cell_type": "code",
   "execution_count": null,
   "metadata": {},
   "outputs": [],
   "source": [
    "from sklearn.ensemble import RandomForestRegressor\n",
    "from xgboost import XGBRegressor"
   ]
  },
  {
   "cell_type": "code",
   "execution_count": null,
   "metadata": {},
   "outputs": [],
   "source": [
    "train = combined_X.loc[train_idx[1]]\n",
    "val = combined_X.loc[test_idx[1]]\n",
    "train.shape, val.shape"
   ]
  },
  {
   "cell_type": "code",
   "execution_count": null,
   "metadata": {},
   "outputs": [],
   "source": [
    "train.columns[3:-1]"
   ]
  },
  {
   "cell_type": "code",
   "execution_count": null,
   "metadata": {},
   "outputs": [],
   "source": [
    "y_train = train['expected'].values\n",
    "X_train = train[train.columns[3:-1]].values\n",
    "y_val = val['expected'].values\n",
    "X_val = val[val.columns[3:-1]].values\n",
    "X_train.shape, X_val.shape, y_train.shape, y_val.shape"
   ]
  },
  {
   "cell_type": "code",
   "execution_count": null,
   "metadata": {},
   "outputs": [],
   "source": [
    "train.iloc[:, 3:-1]"
   ]
  },
  {
   "cell_type": "code",
   "execution_count": null,
   "metadata": {},
   "outputs": [],
   "source": [
    "for i in tqdm(range(4)):\n",
    "    os.makedirs(f'./submission/concatenated/combined/results/fold_{i+1}', exist_ok=True)\n",
    "\n",
    "    train = combined_X.loc[train_idx[i]]\n",
    "    val = combined_X.loc[test_idx[i]]\n",
    "    \n",
    "    y_train = train['expected'].values\n",
    "    X_train = train.iloc[:, 3:-1].values\n",
    "    y_val = val['expected'].values\n",
    "    X_val = val.iloc[:, 3:-1].values\n",
    "    print(f'\\tTrain X Shape: {X_train.shape}, y Shape: {y_train.shape}')\n",
    "    print(f'\\tVal X Shape: {X_val.shape}, y Shape: {y_val.shape}')\n",
    "\n",
    "    print(f'\\tTraining XGBoost')\n",
    "    xg_model = XGBRegressor()\n",
    "    xg_model.fit(X_train, y_train)\n",
    "\n",
    "    print(f'\\tTraining RF')\n",
    "    rf_model = RandomForestRegressor()\n",
    "    rf_model.fit(X_train, y_train)\n",
    "\n",
    "    y_pred_xg = xg_model.predict(X_val)\n",
    "    y_pred_rf = rf_model.predict(X_val)\n",
    "\n",
    "    result_df = pd.DataFrame({'index': val.index.values, 'expected': y_val, 'xg': y_pred_xg, 'rf': y_pred_rf})\n",
    "    result_df.to_csv(f'./submission/concatenated/combined/results/fold_{i+1}/result.csv', index=False)\n",
    "    \n",
    "    rmse_xg = root_mean_squared_error(y_val, y_pred_xg)\n",
    "    rmse_rf = root_mean_squared_error(y_val, y_pred_rf)\n",
    "    r2_xg = r2_score(y_val, y_pred_xg)\n",
    "    r2_rf = r2_score(y_val, y_pred_rf)\n",
    "\n",
    "\n",
    "    plt.figure(figsize=(6, 4))\n",
    "    sns.regplot(x='expected', y='xg', data=result_df, line_kws={'color': 'red'})\n",
    "    plt.title(f'XGBoost - Fold {i+1}')\n",
    "    plt.xlabel('Expected')\n",
    "    plt.ylabel('Predicted')\n",
    "    plt.savefig(f'./submission/concatenated/combined/results/fold_{i+1}/xg.png')\n",
    "    plt.close()\n",
    "\n",
    "    plt.figure(figsize=(6, 4))\n",
    "    sns.regplot(x='expected', y='rf', data=result_df, line_kws={'color': 'red'})\n",
    "    plt.title(f'Random Forest - Fold {i+1}')\n",
    "    plt.xlabel('Expected')\n",
    "    plt.ylabel('Predicted')\n",
    "    plt.savefig(f'./submission/concatenated/combined/results/fold_{i+1}/rf.png')\n",
    "    plt.close()\n",
    "\n",
    "    print(f'Fold {i+1} - XGBoost RMSE: {rmse_xg}, R2: {r2_xg}')\n",
    "    print(f'Fold {i+1} - Random Forest RMSE: {rmse_rf}, R2: {r2_rf}')\n",
    "\n",
    "    with open(f'./submission/concatenated/combined/results/fold_{i+1}/model_xg.pkl', 'wb') as f:\n",
    "        pkl.dump(xg_model, f)\n",
    "    with open(f'./submission/concatenated/combined/results/fold_{i+1}/model_rf.pkl', 'wb') as f:\n",
    "        pkl.dump(rf_model, f)\n",
    "    \n",
    "    # text file\n",
    "    with open(f'./submission/concatenated/combined/results/fold_{i+1}/results.txt', 'w') as f:\n",
    "        f.write(f'Fold {i+1} - XGBoost RMSE: {rmse_xg}, R2: {r2_xg}\\n')\n",
    "        f.write(f'Fold {i+1} - Random Forest RMSE: {rmse_rf}, R2: {r2_rf}')"
   ]
  },
  {
   "cell_type": "code",
   "execution_count": null,
   "metadata": {},
   "outputs": [],
   "source": [
    "# Testing Data\n",
    "test_X = combined_X_no_extreme_test[combined_X_no_extreme_train.columns[3:-1]].values\n",
    "test_y = combined_X_no_extreme_test['expected'].values\n",
    "test_X.shape"
   ]
  },
  {
   "cell_type": "code",
   "execution_count": null,
   "metadata": {},
   "outputs": [],
   "source": [
    "test_X = combined_X_no_extreme_test.iloc[:, 3:-1].values\n",
    "test_y = combined_X_no_extreme_test['expected'].values\n",
    "test_X.shape, test_y.shape"
   ]
  },
  {
   "cell_type": "code",
   "execution_count": null,
   "metadata": {},
   "outputs": [],
   "source": [
    "# Testing Data\n",
    "test_X = combined_X_no_extreme_test.iloc[:, 3:-1].values\n",
    "test_y = combined_X_no_extreme_test['expected'].values\n",
    "for i in tqdm(range(4)):\n",
    "    # Load models\n",
    "    xg_model = pkl.load(open(f'./submission/concatenated/combined/results/fold_{i+1}/model_xg.pkl', 'rb'))\n",
    "    rf_model = pkl.load(open(f'./submission/concatenated/combined/results/fold_{i+1}/model_rf.pkl', 'rb'))\n",
    "\n",
    "    y_pred_xg = xg_model.predict(test_X)\n",
    "    y_pred_rf = rf_model.predict(test_X)\n",
    "\n",
    "    result_df = pd.DataFrame({'index': combined_X_no_extreme_test.index.values, 'expected': test_y, 'xg': y_pred_xg, 'rf': y_pred_rf})\n",
    "    result_df.to_csv(f'./submission/concatenated/combined/results/fold_{i+1}/test_result.csv', index=False)\n",
    "\n",
    "    rmse_xg = root_mean_squared_error(test_y, y_pred_xg)\n",
    "    rmse_rf = root_mean_squared_error(test_y, y_pred_rf)\n",
    "    r2_xg = r2_score(test_y, y_pred_xg)\n",
    "    r2_rf = r2_score(test_y, y_pred_rf)\n",
    "\n",
    "    plt.figure(figsize=(6, 4))\n",
    "    sns.regplot(x='expected', y='xg', data=result_df, line_kws={'color': 'red'})\n",
    "    plt.title(f'XGBoost - Fold {i+1}')\n",
    "    plt.xlabel('Expected')\n",
    "    plt.ylabel('Predicted')\n",
    "    plt.savefig(f'./submission/concatenated/combined/results/fold_{i+1}/test_xg.png')\n",
    "    plt.close()\n",
    "\n",
    "    plt.figure(figsize=(6, 4))\n",
    "    sns.regplot(x='expected', y='rf', data=result_df, line_kws={'color': 'red'})\n",
    "    plt.title(f'Random Forest - Fold {i+1}')\n",
    "    plt.xlabel('Expected')\n",
    "    plt.ylabel('Predicted')\n",
    "    plt.savefig(f'./submission/concatenated/combined/results/fold_{i+1}/test_rf.png')\n",
    "    plt.close()\n",
    "\n",
    "    print(f'Fold {i+1} - XGBoost RMSE: {rmse_xg}, R2: {r2_xg}')\n",
    "    print(f'Fold {i+1} - Random Forest RMSE: {rmse_rf}, R2: {r2_rf}')\n",
    "\n",
    "    with open(f'./submission/concatenated/combined/results/fold_{i+1}/test_results.txt', 'w') as f:\n",
    "        f.write(f'Fold {i+1} - XGBoost RMSE: {rmse_xg}, R2: {r2_xg}\\n')\n",
    "        f.write(f'Fold {i+1} - Random Forest RMSE: {rmse_rf}, R2: {r2_rf}')"
   ]
  },
  {
   "cell_type": "code",
   "execution_count": null,
   "metadata": {},
   "outputs": [],
   "source": [
    "for i in range(4):\n",
    "    result_df = pd.read_csv(f'./submission/concatenated/combined/results/fold_{i+1}/test_result.csv')\n",
    "    xg_pred = result_df['xg'].values\n",
    "    rf_pred = result_df['rf'].values\n",
    "    expected = result_df['expected'].values\n",
    "    plt.figure(figsize=(6, 4))\n",
    "    sns.histplot(xg_pred, color='blue', label='XGBoost', kde=True)\n",
    "    sns.histplot(rf_pred, color='red', label='Random Forest', kde=True)\n",
    "    sns.histplot(expected, color='green', label='Expected', kde=True)\n",
    "    plt.title(f'Fold {i+1} - Prediction Distribution')\n",
    "    plt.legend()\n",
    "    plt.show()\n",
    "\n",
    "\n",
    "\n",
    "result_df = pd.read_csv(f'./submission/concatenated/combined/results/fold_1/test_result.csv')\n",
    "xg_avr = result_df['xg'].values\n",
    "rf_avr = result_df['rf'].values\n",
    "expected = result_df['expected'].values\n",
    "for i in range(1, 4):\n",
    "    result_df = pd.read_csv(f'./submission/concatenated/combined/results/fold_{i+1}/test_result.csv')\n",
    "    xg_pred = result_df['xg'].values\n",
    "    rf_pred = result_df['rf'].values\n",
    "    expected = result_df['expected'].values\n",
    "    xg_avr += xg_pred\n",
    "    rf_avr += rf_pred\n",
    "xg_avr /= 4\n",
    "rf_avr /= 4\n",
    "rmse_xg = root_mean_squared_error(expected, xg_avr)\n",
    "rmse_rf = root_mean_squared_error(expected, rf_avr)\n",
    "print(f'XGBoost RMSE: {rmse_xg}')\n",
    "print(f'Random Forest RMSE: {rmse_rf}')"
   ]
  },
  {
   "cell_type": "code",
   "execution_count": null,
   "metadata": {},
   "outputs": [],
   "source": [
    "# Reg Plot\n",
    "plt.figure(figsize=(6, 4))\n",
    "sns.regplot(x=expected, y=xg_avr, line_kws={'color': 'red'})\n",
    "plt.title(f'XGBoost - Average')\n",
    "plt.xlabel('Expected')\n",
    "plt.ylabel('Predicted')\n",
    "# plt.savefig(f'./submission/concatenated/combined/results/average_xg.png')\n",
    "plt.close()\n",
    "\n",
    "plt.figure(figsize=(6, 4))\n",
    "sns.regplot(x=expected, y=rf_avr, line_kws={'color': 'red'})\n",
    "plt.title(f'Random Forest - Average')\n",
    "plt.xlabel('Expected')\n",
    "plt.ylabel('Predicted')\n",
    "# plt.savefig(f'./submission/concatenated/combined/results/average_rf.png')\n",
    "# Add text - RMSE\n",
    "plt.show()"
   ]
  },
  {
   "cell_type": "code",
   "execution_count": null,
   "metadata": {},
   "outputs": [],
   "source": [
    "plt.figure(figsize=(6, 4))\n",
    "sns.histplot(xg_avr, color='blue', label='XGBoost', kde=True)\n",
    "sns.histplot(rf_avr, color='red', label='Random Forest', kde=True)\n",
    "sns.histplot(expected, color='green', label='Expected', kde=True)\n",
    "plt.title(f'Average - Prediction Distribution')\n",
    "plt.legend()\n",
    "plt.show()"
   ]
  },
  {
   "cell_type": "code",
   "execution_count": null,
   "metadata": {},
   "outputs": [],
   "source": [
    "rmse_xg_avr = root_mean_squared_error(expected, xg_avr)\n",
    "rmse_rf_avr = root_mean_squared_error(expected, rf_avr)\n",
    "r2_xg_avr = r2_score(expected, xg_avr)\n",
    "r2_rf_avr = r2_score(expected, rf_avr)\n",
    "print(f'Average - XGBoost RMSE: {rmse_xg_avr}, R2: {r2_xg_avr}')\n",
    "print(f'Average - Random Forest RMSE: {rmse_rf_avr}, R2: {r2_rf_avr}')"
   ]
  },
  {
   "cell_type": "code",
   "execution_count": null,
   "metadata": {},
   "outputs": [],
   "source": [
    "corr_xg = pearsonr(expected, xg_avr)\n",
    "corr_rf = pearsonr(expected, rf_avr)\n",
    "print(f'Average - XGBoost Correlation: {corr_xg}')\n",
    "print(f'Average - Random Forest Correlation: {corr_rf}')"
   ]
  }
 ],
 "metadata": {
  "kernelspec": {
   "display_name": "dream-olfactory",
   "language": "python",
   "name": "python3"
  },
  "language_info": {
   "codemirror_mode": {
    "name": "ipython",
    "version": 3
   },
   "file_extension": ".py",
   "mimetype": "text/x-python",
   "name": "python",
   "nbconvert_exporter": "python",
   "pygments_lexer": "ipython3",
   "version": "3.10.14"
  }
 },
 "nbformat": 4,
 "nbformat_minor": 2
}
