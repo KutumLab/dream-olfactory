{
 "cells": [
  {
   "cell_type": "code",
   "execution_count": null,
   "metadata": {},
   "outputs": [],
   "source": [
    "from sklearn.metrics import silhouette_score, root_mean_squared_error, r2_score\n",
    "from scipy.cluster.hierarchy import dendrogram, linkage\n",
    "from sklearn.metrics.pairwise import cosine_similarity\n",
    "from sklearn.model_selection import train_test_split\n",
    "from sklearn.decomposition import PCA, TruncatedSVD\n",
    "from sklearn.ensemble import RandomForestRegressor\n",
    "from hirarchy import build_tree, get_level_data\n",
    "from yellowbrick.cluster import KElbowVisualizer\n",
    "from sklearn.preprocessing import MinMaxScaler\n",
    "from scipy.stats import chisquare, pearsonr\n",
    "from sklearn.model_selection import KFold\n",
    "from sklearn.cluster import KMeans\n",
    "import matplotlib.pyplot as plt\n",
    "from matplotlib import rcParams\n",
    "from tqdm import tqdm\n",
    "import seaborn as sns\n",
    "import pickle as pkl\n",
    "import pandas as pd\n",
    "import numpy as np\n",
    "import warnings\n",
    "import sys\n",
    "import os"
   ]
  },
  {
   "cell_type": "code",
   "execution_count": null,
   "metadata": {},
   "outputs": [],
   "source": [
    "rcParams['font.family'] = 'DejaVu Sans'\n",
    "warnings.filterwarnings('ignore')\n",
    "sys.path.append('./')\n",
    "os.makedirs('./submission/concatenated', exist_ok=True)\n",
    "os.makedirs('./submission/concatenated/dragon/data', exist_ok=True)\n",
    "os.makedirs('./submission/concatenated/mordred/data', exist_ok=True)\n",
    "os.makedirs('./submission/concatenated/morgan/data', exist_ok=True)"
   ]
  },
  {
   "cell_type": "markdown",
   "metadata": {},
   "source": [
    "# Dragon"
   ]
  },
  {
   "cell_type": "code",
   "execution_count": null,
   "metadata": {},
   "outputs": [],
   "source": [
    "dragon_cluster_center_df = pd.read_csv('./submission/dragon/data/cluster_center_df.csv').set_index('CID')\n",
    "dragon_features_20_df = pd.read_csv('./submission/dragon/data/features_20.csv').set_index('CID')\n",
    "dragon_features_20_distance_df = pd.read_csv('./submission/dragon/data/features_20_distances.csv').set_index('CID')\n",
    "dragon_X_cluster_center = pd.read_csv('./submission/dragon/data/X_cluster_center.csv').rename(columns={'chi2': 'chi2_cluster', 'pearsonr':'pearsonr_cluster', 'cosine':'cosine_cluster', 'euclidean':'euclidean_cluster'}).reset_index()\n",
    "dragon_X_features_20 = pd.read_csv('./submission/dragon/data/X_features_20.csv').rename(columns={'chi2': 'chi2_f20', 'pearsonr':'pearsonr_f20', 'cosine':'cosine_f20', 'euclidean':'euclidean_f20'}).reset_index()\n",
    "dragon_X_features_20_distance = pd.read_csv('./submission/dragon/data/X_features_20_distances.csv').rename(columns={'chi2': 'chi2_f20_distance', 'pearsonr':'pearsonr_f20_distance', 'cosine':'cosine_f20_distance', 'euclidean':'euclidean_f20_distance'}).reset_index()"
   ]
  },
  {
   "cell_type": "code",
   "execution_count": null,
   "metadata": {},
   "outputs": [],
   "source": [
    "vlas = dragon_X_cluster_center[['index', 'Dataset', 'Mixture 1', 'Mixture 2', 'expected']] == dragon_X_features_20[['index', 'Dataset', 'Mixture 1', 'Mixture 2', 'expected']]\n",
    "print(f'VLA: {vlas.all().all()}')\n",
    "vlas = dragon_X_cluster_center[['index', 'Dataset', 'Mixture 1', 'Mixture 2', 'expected']] == dragon_X_features_20_distance[['index', 'Dataset', 'Mixture 1', 'Mixture 2', 'expected']]\n",
    "print(f'VLA: {vlas.all().all()}')"
   ]
  },
  {
   "cell_type": "code",
   "execution_count": null,
   "metadata": {},
   "outputs": [],
   "source": [
    "meta = dragon_X_features_20_distance[['index', 'Dataset', 'Mixture 1', 'Mixture 2', 'expected']]\n",
    "dragon_X_cluster_center.drop(columns=['expected'], inplace=True)\n",
    "dragon_X_features_20.drop(columns=['expected'], inplace=True)\n",
    "dragon_X_features_20_distance.drop(columns=['expected'], inplace=True)\n",
    "meta"
   ]
  },
  {
   "cell_type": "code",
   "execution_count": null,
   "metadata": {},
   "outputs": [],
   "source": [
    "dragon_X_cluster_center.head(1)"
   ]
  },
  {
   "cell_type": "code",
   "execution_count": null,
   "metadata": {},
   "outputs": [],
   "source": [
    "dragon_X_features_20_distance.head(1)"
   ]
  },
  {
   "cell_type": "code",
   "execution_count": null,
   "metadata": {},
   "outputs": [],
   "source": [
    "dragon_X_features_20.head(1)"
   ]
  },
  {
   "cell_type": "code",
   "execution_count": null,
   "metadata": {},
   "outputs": [],
   "source": [
    "# Rename columns\n",
    "for col in dragon_X_cluster_center.columns[4:]:\n",
    "    # Add cluster_center suffix\n",
    "    dragon_X_cluster_center.rename(columns={col: f'{col}_cluster_center'}, inplace=True)\n",
    "for col in dragon_X_features_20.columns[4:]:\n",
    "    # Add f20 suffix\n",
    "    dragon_X_features_20.rename(columns={col: f'{col}_f20'}, inplace=True)\n",
    "for col in dragon_X_features_20_distance.columns[4:]:\n",
    "    # Add f20_distance suffix\n",
    "    dragon_X_features_20_distance.rename(columns={col: f'{col}_f20_distance'}, inplace=True)"
   ]
  },
  {
   "cell_type": "code",
   "execution_count": null,
   "metadata": {},
   "outputs": [],
   "source": [
    "dragon_X_cluster_center[dragon_X_cluster_center.columns[4:]].shape, dragon_X_features_20[dragon_X_features_20.columns[4:]].shape, dragon_X_features_20_distance[dragon_X_features_20_distance.columns[4:]].shape"
   ]
  },
  {
   "cell_type": "code",
   "execution_count": null,
   "metadata": {},
   "outputs": [],
   "source": [
    "print(dragon_X_cluster_center[dragon_X_cluster_center.columns[4:]].shape[1]+dragon_X_features_20[dragon_X_features_20.columns[4:]].shape[1]+dragon_X_features_20_distance[dragon_X_features_20_distance.columns[4:]].shape[1])"
   ]
  },
  {
   "cell_type": "code",
   "execution_count": null,
   "metadata": {},
   "outputs": [],
   "source": [
    "# Using pd.concat\n",
    "combined_X = pd.concat([dragon_X_cluster_center[dragon_X_cluster_center.columns[4:]], dragon_X_features_20[dragon_X_features_20.columns[4:]], dragon_X_features_20_distance[dragon_X_features_20_distance.columns[4:]]], axis=1)\n",
    "combined_X"
   ]
  },
  {
   "cell_type": "code",
   "execution_count": null,
   "metadata": {},
   "outputs": [],
   "source": [
    "for col in combined_X.columns:\n",
    "    print(col)"
   ]
  },
  {
   "cell_type": "code",
   "execution_count": null,
   "metadata": {},
   "outputs": [],
   "source": [
    "# remove_cols = ['Dataset_x', 'Mixture 1_x', 'Mixture 2_x', 'id', 'Dataset_y', 'Mixture 1_y', 'Mixture 2_y']\n",
    "# combined_X = combined_X.drop(columns=remove_cols)\n",
    "# bring_front = ['Dataset', 'Mixture 1', 'Mixture 2']\n",
    "# combined_X = combined_X[bring_front + [col for col in combined_X.columns if col not in bring_front]]\n",
    "# #combined_X : 3 + (4*2+4) + (20*2+4) + (159*2+4) + 1 = 382 \n",
    "# combined_X = combined_X.sample(frac=1)\n",
    "# combined_X.to_csv('./submission/concatenated/dragon/data/combined_X.csv')\n",
    "\n",
    "combined_X = pd.concat([meta, combined_X], axis=1)\n",
    "# send expected to the end\n",
    "expected = combined_X.pop('expected')\n",
    "combined_X['expected'] = expected\n",
    "combined_X.drop(columns=['index'], inplace=True)\n",
    "combined_X.to_csv('./submission/concatenated/dragon/data/combined_X.csv')"
   ]
  },
  {
   "cell_type": "code",
   "execution_count": null,
   "metadata": {},
   "outputs": [],
   "source": [
    "plt.figure(figsize=(6, 4))\n",
    "plt.hist(combined_X['expected'])\n",
    "plt.show()"
   ]
  },
  {
   "cell_type": "code",
   "execution_count": null,
   "metadata": {},
   "outputs": [],
   "source": [
    "extreme = combined_X[(combined_X['expected'] > 0.8) | (combined_X['expected'] < 0.2)]\n",
    "extreme.to_csv('./submission/concatenated/dragon/data/extreme.csv', index=False)\n",
    "extreme_idx = extreme.index.values\n",
    "extreme.shape"
   ]
  },
  {
   "cell_type": "code",
   "execution_count": null,
   "metadata": {},
   "outputs": [],
   "source": [
    "combined_X_no_extreme = combined_X[(combined_X['expected'] <= 0.8) & (combined_X['expected'] >= 0.2)]\n",
    "combined_X_no_extreme.shape"
   ]
  },
  {
   "cell_type": "code",
   "execution_count": null,
   "metadata": {},
   "outputs": [],
   "source": [
    "combined_X_no_extreme.head()"
   ]
  },
  {
   "cell_type": "code",
   "execution_count": null,
   "metadata": {},
   "outputs": [],
   "source": [
    "combined_X_no_extreme_train, combined_X_no_extreme_test = train_test_split(combined_X_no_extreme, test_size=0.1, random_state=42)\n",
    "combined_X_no_extreme_train.shape, combined_X_no_extreme_test.shape"
   ]
  },
  {
   "cell_type": "code",
   "execution_count": null,
   "metadata": {},
   "outputs": [],
   "source": [
    "np.save('./submission/concatenated/data/external_train.npy', combined_X_no_extreme_train.index.values)\n",
    "np.save('./submission/concatenated/data/external_test.npy', combined_X_no_extreme_test.index.values)"
   ]
  },
  {
   "cell_type": "code",
   "execution_count": null,
   "metadata": {},
   "outputs": [],
   "source": [
    "combined_X_no_extreme_train.head(2)"
   ]
  },
  {
   "cell_type": "code",
   "execution_count": null,
   "metadata": {},
   "outputs": [],
   "source": [
    "combined_X_no_extreme_test.head(2)"
   ]
  },
  {
   "cell_type": "code",
   "execution_count": null,
   "metadata": {},
   "outputs": [],
   "source": [
    "combined_X_no_extreme_test.to_csv('./submission/concatenated/dragon/data/combined_X_no_extreme_test.csv', index=False)\n",
    "combined_X_no_extreme_train.to_csv('./submission/concatenated/dragon/data/combined_X_no_extreme_train.csv', index=False)"
   ]
  },
  {
   "cell_type": "code",
   "execution_count": null,
   "metadata": {},
   "outputs": [],
   "source": [
    "kf = KFold(n_splits=4, shuffle=True, random_state=42)\n",
    "train_idx = []\n",
    "test_idx = []\n",
    "for idx1, idx2 in kf.split(combined_X_no_extreme_train):\n",
    "    include = list(combined_X_no_extreme_train.iloc[idx1].index.values)\n",
    "    include.extend(extreme_idx)\n",
    "    include = np.array(include)\n",
    "    train_idx.append(include) \n",
    "    test_idx.append(combined_X_no_extreme_train.iloc[idx2].index.values)"
   ]
  },
  {
   "cell_type": "code",
   "execution_count": null,
   "metadata": {},
   "outputs": [],
   "source": [
    "np.save('./submission/concatenated/data/train_idx.npy', train_idx)\n",
    "np.save('./submission/concatenated/data/test_idx.npy', test_idx)"
   ]
  },
  {
   "cell_type": "code",
   "execution_count": null,
   "metadata": {},
   "outputs": [],
   "source": [
    "train = combined_X.loc[train_idx[1]]\n",
    "train"
   ]
  },
  {
   "cell_type": "code",
   "execution_count": null,
   "metadata": {},
   "outputs": [],
   "source": [
    "from sklearn.ensemble import RandomForestRegressor\n",
    "from xgboost import XGBRegressor"
   ]
  },
  {
   "cell_type": "code",
   "execution_count": null,
   "metadata": {},
   "outputs": [],
   "source": [
    "for i in tqdm(range(4)):\n",
    "    os.makedirs(f'./submission/concatenated/dragon/results/fold_{i+1}', exist_ok=True)\n",
    "\n",
    "    train = combined_X.loc[train_idx[i]]\n",
    "    val = combined_X.loc[test_idx[i]]\n",
    "    \n",
    "    X_train = train[train.columns[3:-1]].values\n",
    "    y_train = train['expected'].values\n",
    "    X_val = val[val.columns[3:-1]].values\n",
    "    y_val = val['expected'].values\n",
    "\n",
    "    print(f'\\tTraining XGBoost')\n",
    "    xg_model = XGBRegressor()\n",
    "    xg_model.fit(X_train, y_train)\n",
    "\n",
    "    print(f'\\tTraining RF')\n",
    "    rf_model = RandomForestRegressor()\n",
    "    rf_model.fit(X_train, y_train)\n",
    "\n",
    "    y_pred_xg = xg_model.predict(X_val)\n",
    "    y_pred_rf = rf_model.predict(X_val)\n",
    "\n",
    "    result_df = pd.DataFrame({'index': val.index.values, 'expected': y_val, 'xg': y_pred_xg, 'rf': y_pred_rf})\n",
    "    result_df.to_csv(f'./submission/concatenated/dragon/results/fold_{i+1}/result.csv', index=False)\n",
    "    \n",
    "    rmse_xg = root_mean_squared_error(y_val, y_pred_xg)\n",
    "    rmse_rf = root_mean_squared_error(y_val, y_pred_rf)\n",
    "    r2_xg = r2_score(y_val, y_pred_xg)\n",
    "    r2_rf = r2_score(y_val, y_pred_rf)\n",
    "\n",
    "\n",
    "    plt.figure(figsize=(6, 4))\n",
    "    sns.regplot(x='expected', y='xg', data=result_df, line_kws={'color': 'red'})\n",
    "    plt.title(f'XGBoost - Fold {i+1}')\n",
    "    plt.xlabel('Expected')\n",
    "    plt.ylabel('Predicted')\n",
    "    plt.savefig(f'./submission/concatenated/dragon/results/fold_{i+1}/xg.png')\n",
    "    plt.close()\n",
    "\n",
    "    plt.figure(figsize=(6, 4))\n",
    "    sns.regplot(x='expected', y='rf', data=result_df, line_kws={'color': 'red'})\n",
    "    plt.title(f'Random Forest - Fold {i+1}')\n",
    "    plt.xlabel('Expected')\n",
    "    plt.ylabel('Predicted')\n",
    "    plt.savefig(f'./submission/concatenated/dragon/results/fold_{i+1}/rf.png')\n",
    "    plt.close()\n",
    "\n",
    "    print(f'Fold {i+1} - XGBoost RMSE: {rmse_xg}, R2: {r2_xg}')\n",
    "    print(f'Fold {i+1} - Random Forest RMSE: {rmse_rf}, R2: {r2_rf}')\n",
    "\n",
    "    with open(f'./submission/concatenated/dragon/results/fold_{i+1}/model_xg.pkl', 'wb') as f:\n",
    "        pkl.dump(xg_model, f)\n",
    "    with open(f'./submission/concatenated/dragon/results/fold_{i+1}/model_rf.pkl', 'wb') as f:\n",
    "        pkl.dump(rf_model, f)\n",
    "    \n",
    "    # text file\n",
    "    with open(f'./submission/concatenated/dragon/results/fold_{i+1}/results.txt', 'w') as f:\n",
    "        f.write(f'Fold {i+1} - XGBoost RMSE: {rmse_xg}, R2: {r2_xg}\\n')\n",
    "        f.write(f'Fold {i+1} - Random Forest RMSE: {rmse_rf}, R2: {r2_rf}')"
   ]
  },
  {
   "cell_type": "code",
   "execution_count": null,
   "metadata": {},
   "outputs": [],
   "source": [
    "# Testing Data\n",
    "test_X = combined_X_no_extreme_test[combined_X_no_extreme_train.columns[3:-1]].values\n",
    "test_y = combined_X_no_extreme_test['expected'].values\n",
    "for i in tqdm(range(4)):\n",
    "    # Load models\n",
    "    xg_model = pkl.load(open(f'./submission/concatenated/dragon/results/fold_{i+1}/model_xg.pkl', 'rb'))\n",
    "    rf_model = pkl.load(open(f'./submission/concatenated/dragon/results/fold_{i+1}/model_rf.pkl', 'rb'))\n",
    "\n",
    "    y_pred_xg = xg_model.predict(test_X)\n",
    "    y_pred_rf = rf_model.predict(test_X)\n",
    "\n",
    "    result_df = pd.DataFrame({'index': combined_X_no_extreme_test.index.values, 'expected': test_y, 'xg': y_pred_xg, 'rf': y_pred_rf})\n",
    "    result_df.to_csv(f'./submission/concatenated/dragon/results/fold_{i+1}/test_result.csv', index=False)\n",
    "\n",
    "    rmse_xg = root_mean_squared_error(test_y, y_pred_xg)\n",
    "    rmse_rf = root_mean_squared_error(test_y, y_pred_rf)\n",
    "    r2_xg = r2_score(test_y, y_pred_xg)\n",
    "    r2_rf = r2_score(test_y, y_pred_rf)\n",
    "\n",
    "    plt.figure(figsize=(6, 4))\n",
    "    sns.regplot(x='expected', y='xg', data=result_df, line_kws={'color': 'red'})\n",
    "    plt.title(f'XGBoost - Fold {i+1}')\n",
    "    plt.xlabel('Expected')\n",
    "    plt.ylabel('Predicted')\n",
    "    plt.savefig(f'./submission/concatenated/dragon/results/fold_{i+1}/test_xg.png')\n",
    "    plt.close()\n",
    "\n",
    "    plt.figure(figsize=(6, 4))\n",
    "    sns.regplot(x='expected', y='rf', data=result_df, line_kws={'color': 'red'})\n",
    "    plt.title(f'Random Forest - Fold {i+1}')\n",
    "    plt.xlabel('Expected')\n",
    "    plt.ylabel('Predicted')\n",
    "    plt.savefig(f'./submission/concatenated/dragon/results/fold_{i+1}/test_rf.png')\n",
    "    plt.close()\n",
    "\n",
    "    print(f'Fold {i+1} - XGBoost RMSE: {rmse_xg}, R2: {r2_xg}')\n",
    "    print(f'Fold {i+1} - Random Forest RMSE: {rmse_rf}, R2: {r2_rf}')\n",
    "\n",
    "    with open(f'./submission/concatenated/dragon/results/fold_{i+1}/test_results.txt', 'w') as f:\n",
    "        f.write(f'Fold {i+1} - XGBoost RMSE: {rmse_xg}, R2: {r2_xg}\\n')\n",
    "        f.write(f'Fold {i+1} - Random Forest RMSE: {rmse_rf}, R2: {r2_rf}')"
   ]
  }
 ],
 "metadata": {
  "kernelspec": {
   "display_name": "dream-olfactory",
   "language": "python",
   "name": "python3"
  },
  "language_info": {
   "codemirror_mode": {
    "name": "ipython",
    "version": 3
   },
   "file_extension": ".py",
   "mimetype": "text/x-python",
   "name": "python",
   "nbconvert_exporter": "python",
   "pygments_lexer": "ipython3",
   "version": "3.10.14"
  }
 },
 "nbformat": 4,
 "nbformat_minor": 2
}
